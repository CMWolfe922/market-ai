{
 "cells": [
  {
   "cell_type": "code",
   "execution_count": 6,
   "metadata": {},
   "outputs": [],
   "source": [
    "import requests, os\n",
    "import string\n",
    "import pandas as pd\n",
    "from bs4 import BeautifulSoup as bs\n",
    "from marketdata.tickers import companies\n",
    "from loguru import logger\n",
    "from sqlalchemy import create_engine\n",
    "import sqlite3 as sql\n",
    "import mysql.connector as mysql\n"
   ]
  },
  {
   "cell_type": "code",
   "execution_count": 2,
   "metadata": {},
   "outputs": [],
   "source": [
    "db_path = \"/home/blackwolf/dev/projects/finance/market-ai/\"\n",
    "db = os.path.join(db_path, \"marketdata.db\")\n",
    "\n",
    "path = os.getcwd()"
   ]
  },
  {
   "cell_type": "code",
   "execution_count": 3,
   "metadata": {},
   "outputs": [
    {
     "name": "stderr",
     "output_type": "stream",
     "text": [
      "2022-11-16 00:04:35.433 | INFO     | marketdata.tickers:companies:86 - [+] Begin extracting company information:\n",
      "2022-11-16 00:04:35.434 | INFO     | marketdata.tickers:get_companies:46 - Get stock market tickers for NYSE exchange\n",
      "2022-11-16 00:04:36.507 | INFO     | marketdata.tickers:get_companies:57 - Extracted tickers from http://eoddata.com/stocklist/NYSE/A.htm for NYSE exchange\n",
      "2022-11-16 00:04:37.413 | INFO     | marketdata.tickers:get_companies:57 - Extracted tickers from http://eoddata.com/stocklist/NYSE/B.htm for NYSE exchange\n",
      "2022-11-16 00:04:38.299 | INFO     | marketdata.tickers:get_companies:57 - Extracted tickers from http://eoddata.com/stocklist/NYSE/C.htm for NYSE exchange\n",
      "2022-11-16 00:04:39.099 | INFO     | marketdata.tickers:get_companies:57 - Extracted tickers from http://eoddata.com/stocklist/NYSE/D.htm for NYSE exchange\n",
      "2022-11-16 00:04:39.901 | INFO     | marketdata.tickers:get_companies:57 - Extracted tickers from http://eoddata.com/stocklist/NYSE/E.htm for NYSE exchange\n",
      "2022-11-16 00:04:40.678 | INFO     | marketdata.tickers:get_companies:57 - Extracted tickers from http://eoddata.com/stocklist/NYSE/F.htm for NYSE exchange\n",
      "2022-11-16 00:04:41.509 | INFO     | marketdata.tickers:get_companies:57 - Extracted tickers from http://eoddata.com/stocklist/NYSE/G.htm for NYSE exchange\n",
      "2022-11-16 00:04:42.255 | INFO     | marketdata.tickers:get_companies:57 - Extracted tickers from http://eoddata.com/stocklist/NYSE/H.htm for NYSE exchange\n",
      "2022-11-16 00:04:43.027 | INFO     | marketdata.tickers:get_companies:57 - Extracted tickers from http://eoddata.com/stocklist/NYSE/I.htm for NYSE exchange\n",
      "2022-11-16 00:04:43.672 | INFO     | marketdata.tickers:get_companies:57 - Extracted tickers from http://eoddata.com/stocklist/NYSE/J.htm for NYSE exchange\n",
      "2022-11-16 00:04:44.380 | INFO     | marketdata.tickers:get_companies:57 - Extracted tickers from http://eoddata.com/stocklist/NYSE/K.htm for NYSE exchange\n",
      "2022-11-16 00:04:45.086 | INFO     | marketdata.tickers:get_companies:57 - Extracted tickers from http://eoddata.com/stocklist/NYSE/L.htm for NYSE exchange\n",
      "2022-11-16 00:04:45.896 | INFO     | marketdata.tickers:get_companies:57 - Extracted tickers from http://eoddata.com/stocklist/NYSE/M.htm for NYSE exchange\n",
      "2022-11-16 00:04:46.769 | INFO     | marketdata.tickers:get_companies:57 - Extracted tickers from http://eoddata.com/stocklist/NYSE/N.htm for NYSE exchange\n",
      "2022-11-16 00:04:47.522 | INFO     | marketdata.tickers:get_companies:57 - Extracted tickers from http://eoddata.com/stocklist/NYSE/O.htm for NYSE exchange\n",
      "2022-11-16 00:04:48.356 | INFO     | marketdata.tickers:get_companies:57 - Extracted tickers from http://eoddata.com/stocklist/NYSE/P.htm for NYSE exchange\n",
      "2022-11-16 00:04:48.932 | INFO     | marketdata.tickers:get_companies:57 - Extracted tickers from http://eoddata.com/stocklist/NYSE/Q.htm for NYSE exchange\n",
      "2022-11-16 00:04:49.664 | INFO     | marketdata.tickers:get_companies:57 - Extracted tickers from http://eoddata.com/stocklist/NYSE/R.htm for NYSE exchange\n",
      "2022-11-16 00:04:50.498 | INFO     | marketdata.tickers:get_companies:57 - Extracted tickers from http://eoddata.com/stocklist/NYSE/S.htm for NYSE exchange\n",
      "2022-11-16 00:04:51.350 | INFO     | marketdata.tickers:get_companies:57 - Extracted tickers from http://eoddata.com/stocklist/NYSE/T.htm for NYSE exchange\n",
      "2022-11-16 00:04:52.040 | INFO     | marketdata.tickers:get_companies:57 - Extracted tickers from http://eoddata.com/stocklist/NYSE/U.htm for NYSE exchange\n",
      "2022-11-16 00:04:52.732 | INFO     | marketdata.tickers:get_companies:57 - Extracted tickers from http://eoddata.com/stocklist/NYSE/V.htm for NYSE exchange\n",
      "2022-11-16 00:04:53.447 | INFO     | marketdata.tickers:get_companies:57 - Extracted tickers from http://eoddata.com/stocklist/NYSE/W.htm for NYSE exchange\n",
      "2022-11-16 00:04:54.019 | INFO     | marketdata.tickers:get_companies:57 - Extracted tickers from http://eoddata.com/stocklist/NYSE/X.htm for NYSE exchange\n",
      "2022-11-16 00:04:54.589 | INFO     | marketdata.tickers:get_companies:57 - Extracted tickers from http://eoddata.com/stocklist/NYSE/Y.htm for NYSE exchange\n",
      "2022-11-16 00:04:55.195 | INFO     | marketdata.tickers:get_companies:57 - Extracted tickers from http://eoddata.com/stocklist/NYSE/Z.htm for NYSE exchange\n",
      "2022-11-16 00:04:55.197 | INFO     | marketdata.tickers:get_companies:61 - Cleaned the symbols and names by removing hyphens and additional letters\n",
      "2022-11-16 00:04:55.199 | INFO     | marketdata.tickers:get_companies:64 - Extracted 3588 groups of company symbols and names:\n",
      "2022-11-16 00:04:55.200 | INFO     | marketdata.tickers:get_companies:68 - 3500 left after removing duplicates:\n",
      "2022-11-16 00:04:55.201 | INFO     | marketdata.tickers:get_companies:81 - Removed 0 unqualified symbols:\n",
      "2022-11-16 00:04:55.203 | INFO     | marketdata.tickers:get_companies:82 - Kept 3500 qualified symbols:\n",
      "2022-11-16 00:04:55.204 | INFO     | marketdata.tickers:get_companies:46 - Get stock market tickers for NASDAQ exchange\n",
      "2022-11-16 00:04:56.366 | INFO     | marketdata.tickers:get_companies:57 - Extracted tickers from http://eoddata.com/stocklist/NASDAQ/A.htm for NASDAQ exchange\n",
      "2022-11-16 00:04:57.285 | INFO     | marketdata.tickers:get_companies:57 - Extracted tickers from http://eoddata.com/stocklist/NASDAQ/B.htm for NASDAQ exchange\n",
      "2022-11-16 00:04:58.832 | INFO     | marketdata.tickers:get_companies:57 - Extracted tickers from http://eoddata.com/stocklist/NASDAQ/C.htm for NASDAQ exchange\n",
      "2022-11-16 00:04:59.613 | INFO     | marketdata.tickers:get_companies:57 - Extracted tickers from http://eoddata.com/stocklist/NASDAQ/D.htm for NASDAQ exchange\n",
      "2022-11-16 00:05:00.420 | INFO     | marketdata.tickers:get_companies:57 - Extracted tickers from http://eoddata.com/stocklist/NASDAQ/E.htm for NASDAQ exchange\n",
      "2022-11-16 00:05:01.417 | INFO     | marketdata.tickers:get_companies:57 - Extracted tickers from http://eoddata.com/stocklist/NASDAQ/F.htm for NASDAQ exchange\n",
      "2022-11-16 00:05:02.258 | INFO     | marketdata.tickers:get_companies:57 - Extracted tickers from http://eoddata.com/stocklist/NASDAQ/G.htm for NASDAQ exchange\n",
      "2022-11-16 00:05:03.399 | INFO     | marketdata.tickers:get_companies:57 - Extracted tickers from http://eoddata.com/stocklist/NASDAQ/H.htm for NASDAQ exchange\n",
      "2022-11-16 00:05:05.826 | INFO     | marketdata.tickers:get_companies:57 - Extracted tickers from http://eoddata.com/stocklist/NASDAQ/I.htm for NASDAQ exchange\n",
      "2022-11-16 00:05:06.647 | INFO     | marketdata.tickers:get_companies:57 - Extracted tickers from http://eoddata.com/stocklist/NASDAQ/J.htm for NASDAQ exchange\n",
      "2022-11-16 00:05:07.368 | INFO     | marketdata.tickers:get_companies:57 - Extracted tickers from http://eoddata.com/stocklist/NASDAQ/K.htm for NASDAQ exchange\n",
      "2022-11-16 00:05:08.274 | INFO     | marketdata.tickers:get_companies:57 - Extracted tickers from http://eoddata.com/stocklist/NASDAQ/L.htm for NASDAQ exchange\n",
      "2022-11-16 00:05:10.190 | INFO     | marketdata.tickers:get_companies:57 - Extracted tickers from http://eoddata.com/stocklist/NASDAQ/M.htm for NASDAQ exchange\n",
      "2022-11-16 00:05:11.116 | INFO     | marketdata.tickers:get_companies:57 - Extracted tickers from http://eoddata.com/stocklist/NASDAQ/N.htm for NASDAQ exchange\n",
      "2022-11-16 00:05:11.923 | INFO     | marketdata.tickers:get_companies:57 - Extracted tickers from http://eoddata.com/stocklist/NASDAQ/O.htm for NASDAQ exchange\n",
      "2022-11-16 00:05:12.901 | INFO     | marketdata.tickers:get_companies:57 - Extracted tickers from http://eoddata.com/stocklist/NASDAQ/P.htm for NASDAQ exchange\n",
      "2022-11-16 00:05:13.549 | INFO     | marketdata.tickers:get_companies:57 - Extracted tickers from http://eoddata.com/stocklist/NASDAQ/Q.htm for NASDAQ exchange\n",
      "2022-11-16 00:05:14.355 | INFO     | marketdata.tickers:get_companies:57 - Extracted tickers from http://eoddata.com/stocklist/NASDAQ/R.htm for NASDAQ exchange\n",
      "2022-11-16 00:05:15.804 | INFO     | marketdata.tickers:get_companies:57 - Extracted tickers from http://eoddata.com/stocklist/NASDAQ/S.htm for NASDAQ exchange\n",
      "2022-11-16 00:05:16.689 | INFO     | marketdata.tickers:get_companies:57 - Extracted tickers from http://eoddata.com/stocklist/NASDAQ/T.htm for NASDAQ exchange\n",
      "2022-11-16 00:05:17.393 | INFO     | marketdata.tickers:get_companies:57 - Extracted tickers from http://eoddata.com/stocklist/NASDAQ/U.htm for NASDAQ exchange\n",
      "2022-11-16 00:05:18.196 | INFO     | marketdata.tickers:get_companies:57 - Extracted tickers from http://eoddata.com/stocklist/NASDAQ/V.htm for NASDAQ exchange\n",
      "2022-11-16 00:05:18.922 | INFO     | marketdata.tickers:get_companies:57 - Extracted tickers from http://eoddata.com/stocklist/NASDAQ/W.htm for NASDAQ exchange\n",
      "2022-11-16 00:05:20.482 | INFO     | marketdata.tickers:get_companies:57 - Extracted tickers from http://eoddata.com/stocklist/NASDAQ/X.htm for NASDAQ exchange\n",
      "2022-11-16 00:05:21.126 | INFO     | marketdata.tickers:get_companies:57 - Extracted tickers from http://eoddata.com/stocklist/NASDAQ/Y.htm for NASDAQ exchange\n",
      "2022-11-16 00:05:21.783 | INFO     | marketdata.tickers:get_companies:57 - Extracted tickers from http://eoddata.com/stocklist/NASDAQ/Z.htm for NASDAQ exchange\n",
      "2022-11-16 00:05:21.785 | INFO     | marketdata.tickers:get_companies:61 - Cleaned the symbols and names by removing hyphens and additional letters\n",
      "2022-11-16 00:05:21.787 | INFO     | marketdata.tickers:get_companies:64 - Extracted 5743 groups of company symbols and names:\n",
      "2022-11-16 00:05:21.789 | INFO     | marketdata.tickers:get_companies:68 - 5743 left after removing duplicates:\n",
      "2022-11-16 00:05:21.791 | INFO     | marketdata.tickers:get_companies:81 - Removed 848 unqualified symbols:\n",
      "2022-11-16 00:05:21.793 | INFO     | marketdata.tickers:get_companies:82 - Kept 4895 qualified symbols:\n",
      "2022-11-16 00:05:21.794 | INFO     | marketdata.tickers:get_companies:46 - Get stock market tickers for AMEX exchange\n",
      "2022-11-16 00:05:22.549 | INFO     | marketdata.tickers:get_companies:57 - Extracted tickers from http://eoddata.com/stocklist/AMEX/A.htm for AMEX exchange\n",
      "2022-11-16 00:05:23.289 | INFO     | marketdata.tickers:get_companies:57 - Extracted tickers from http://eoddata.com/stocklist/AMEX/B.htm for AMEX exchange\n",
      "2022-11-16 00:05:24.015 | INFO     | marketdata.tickers:get_companies:57 - Extracted tickers from http://eoddata.com/stocklist/AMEX/C.htm for AMEX exchange\n",
      "2022-11-16 00:05:24.890 | INFO     | marketdata.tickers:get_companies:57 - Extracted tickers from http://eoddata.com/stocklist/AMEX/D.htm for AMEX exchange\n",
      "2022-11-16 00:05:25.710 | INFO     | marketdata.tickers:get_companies:57 - Extracted tickers from http://eoddata.com/stocklist/AMEX/E.htm for AMEX exchange\n",
      "2022-11-16 00:05:26.577 | INFO     | marketdata.tickers:get_companies:57 - Extracted tickers from http://eoddata.com/stocklist/AMEX/F.htm for AMEX exchange\n",
      "2022-11-16 00:05:27.272 | INFO     | marketdata.tickers:get_companies:57 - Extracted tickers from http://eoddata.com/stocklist/AMEX/G.htm for AMEX exchange\n",
      "2022-11-16 00:05:27.957 | INFO     | marketdata.tickers:get_companies:57 - Extracted tickers from http://eoddata.com/stocklist/AMEX/H.htm for AMEX exchange\n",
      "2022-11-16 00:05:28.845 | INFO     | marketdata.tickers:get_companies:57 - Extracted tickers from http://eoddata.com/stocklist/AMEX/I.htm for AMEX exchange\n",
      "2022-11-16 00:05:29.548 | INFO     | marketdata.tickers:get_companies:57 - Extracted tickers from http://eoddata.com/stocklist/AMEX/J.htm for AMEX exchange\n",
      "2022-11-16 00:05:30.283 | INFO     | marketdata.tickers:get_companies:57 - Extracted tickers from http://eoddata.com/stocklist/AMEX/K.htm for AMEX exchange\n",
      "2022-11-16 00:05:30.995 | INFO     | marketdata.tickers:get_companies:57 - Extracted tickers from http://eoddata.com/stocklist/AMEX/L.htm for AMEX exchange\n",
      "2022-11-16 00:05:31.737 | INFO     | marketdata.tickers:get_companies:57 - Extracted tickers from http://eoddata.com/stocklist/AMEX/M.htm for AMEX exchange\n",
      "2022-11-16 00:05:32.443 | INFO     | marketdata.tickers:get_companies:57 - Extracted tickers from http://eoddata.com/stocklist/AMEX/N.htm for AMEX exchange\n",
      "2022-11-16 00:05:33.104 | INFO     | marketdata.tickers:get_companies:57 - Extracted tickers from http://eoddata.com/stocklist/AMEX/O.htm for AMEX exchange\n",
      "2022-11-16 00:05:33.953 | INFO     | marketdata.tickers:get_companies:57 - Extracted tickers from http://eoddata.com/stocklist/AMEX/P.htm for AMEX exchange\n",
      "2022-11-16 00:05:34.596 | INFO     | marketdata.tickers:get_companies:57 - Extracted tickers from http://eoddata.com/stocklist/AMEX/Q.htm for AMEX exchange\n",
      "2022-11-16 00:05:35.294 | INFO     | marketdata.tickers:get_companies:57 - Extracted tickers from http://eoddata.com/stocklist/AMEX/R.htm for AMEX exchange\n",
      "2022-11-16 00:05:36.181 | INFO     | marketdata.tickers:get_companies:57 - Extracted tickers from http://eoddata.com/stocklist/AMEX/S.htm for AMEX exchange\n",
      "2022-11-16 00:05:36.912 | INFO     | marketdata.tickers:get_companies:57 - Extracted tickers from http://eoddata.com/stocklist/AMEX/T.htm for AMEX exchange\n",
      "2022-11-16 00:05:37.836 | INFO     | marketdata.tickers:get_companies:57 - Extracted tickers from http://eoddata.com/stocklist/AMEX/U.htm for AMEX exchange\n",
      "2022-11-16 00:05:38.554 | INFO     | marketdata.tickers:get_companies:57 - Extracted tickers from http://eoddata.com/stocklist/AMEX/V.htm for AMEX exchange\n",
      "2022-11-16 00:05:39.187 | INFO     | marketdata.tickers:get_companies:57 - Extracted tickers from http://eoddata.com/stocklist/AMEX/W.htm for AMEX exchange\n",
      "2022-11-16 00:05:39.924 | INFO     | marketdata.tickers:get_companies:57 - Extracted tickers from http://eoddata.com/stocklist/AMEX/X.htm for AMEX exchange\n",
      "2022-11-16 00:05:40.551 | INFO     | marketdata.tickers:get_companies:57 - Extracted tickers from http://eoddata.com/stocklist/AMEX/Y.htm for AMEX exchange\n",
      "2022-11-16 00:05:41.200 | INFO     | marketdata.tickers:get_companies:57 - Extracted tickers from http://eoddata.com/stocklist/AMEX/Z.htm for AMEX exchange\n",
      "2022-11-16 00:05:41.201 | INFO     | marketdata.tickers:get_companies:61 - Cleaned the symbols and names by removing hyphens and additional letters\n",
      "2022-11-16 00:05:41.203 | INFO     | marketdata.tickers:get_companies:64 - Extracted 2898 groups of company symbols and names:\n",
      "2022-11-16 00:05:41.204 | INFO     | marketdata.tickers:get_companies:68 - 2892 left after removing duplicates:\n",
      "2022-11-16 00:05:41.205 | INFO     | marketdata.tickers:get_companies:81 - Removed 0 unqualified symbols:\n",
      "2022-11-16 00:05:41.206 | INFO     | marketdata.tickers:get_companies:82 - Kept 2892 qualified symbols:\n",
      "2022-11-16 00:05:41.208 | INFO     | marketdata.tickers:get_companies:46 - Get stock market tickers for OTCBB exchange\n",
      "2022-11-16 00:05:43.036 | INFO     | marketdata.tickers:get_companies:57 - Extracted tickers from http://eoddata.com/stocklist/OTCBB/A.htm for OTCBB exchange\n",
      "2022-11-16 00:05:44.137 | INFO     | marketdata.tickers:get_companies:57 - Extracted tickers from http://eoddata.com/stocklist/OTCBB/B.htm for OTCBB exchange\n",
      "2022-11-16 00:05:45.445 | INFO     | marketdata.tickers:get_companies:57 - Extracted tickers from http://eoddata.com/stocklist/OTCBB/C.htm for OTCBB exchange\n",
      "2022-11-16 00:05:46.456 | INFO     | marketdata.tickers:get_companies:57 - Extracted tickers from http://eoddata.com/stocklist/OTCBB/D.htm for OTCBB exchange\n",
      "2022-11-16 00:05:47.403 | INFO     | marketdata.tickers:get_companies:57 - Extracted tickers from http://eoddata.com/stocklist/OTCBB/E.htm for OTCBB exchange\n",
      "2022-11-16 00:05:48.794 | INFO     | marketdata.tickers:get_companies:57 - Extracted tickers from http://eoddata.com/stocklist/OTCBB/F.htm for OTCBB exchange\n",
      "2022-11-16 00:05:49.853 | INFO     | marketdata.tickers:get_companies:57 - Extracted tickers from http://eoddata.com/stocklist/OTCBB/G.htm for OTCBB exchange\n",
      "2022-11-16 00:05:50.787 | INFO     | marketdata.tickers:get_companies:57 - Extracted tickers from http://eoddata.com/stocklist/OTCBB/H.htm for OTCBB exchange\n",
      "2022-11-16 00:05:52.906 | INFO     | marketdata.tickers:get_companies:57 - Extracted tickers from http://eoddata.com/stocklist/OTCBB/I.htm for OTCBB exchange\n",
      "2022-11-16 00:05:53.611 | INFO     | marketdata.tickers:get_companies:57 - Extracted tickers from http://eoddata.com/stocklist/OTCBB/J.htm for OTCBB exchange\n",
      "2022-11-16 00:05:54.446 | INFO     | marketdata.tickers:get_companies:57 - Extracted tickers from http://eoddata.com/stocklist/OTCBB/K.htm for OTCBB exchange\n",
      "2022-11-16 00:05:55.430 | INFO     | marketdata.tickers:get_companies:57 - Extracted tickers from http://eoddata.com/stocklist/OTCBB/L.htm for OTCBB exchange\n",
      "2022-11-16 00:05:56.881 | INFO     | marketdata.tickers:get_companies:57 - Extracted tickers from http://eoddata.com/stocklist/OTCBB/M.htm for OTCBB exchange\n",
      "2022-11-16 00:05:57.902 | INFO     | marketdata.tickers:get_companies:57 - Extracted tickers from http://eoddata.com/stocklist/OTCBB/N.htm for OTCBB exchange\n",
      "2022-11-16 00:05:58.715 | INFO     | marketdata.tickers:get_companies:57 - Extracted tickers from http://eoddata.com/stocklist/OTCBB/O.htm for OTCBB exchange\n",
      "2022-11-16 00:05:59.822 | INFO     | marketdata.tickers:get_companies:57 - Extracted tickers from http://eoddata.com/stocklist/OTCBB/P.htm for OTCBB exchange\n",
      "2022-11-16 00:06:00.525 | INFO     | marketdata.tickers:get_companies:57 - Extracted tickers from http://eoddata.com/stocklist/OTCBB/Q.htm for OTCBB exchange\n",
      "2022-11-16 00:06:01.428 | INFO     | marketdata.tickers:get_companies:57 - Extracted tickers from http://eoddata.com/stocklist/OTCBB/R.htm for OTCBB exchange\n",
      "2022-11-16 00:06:02.877 | INFO     | marketdata.tickers:get_companies:57 - Extracted tickers from http://eoddata.com/stocklist/OTCBB/S.htm for OTCBB exchange\n",
      "2022-11-16 00:06:03.965 | INFO     | marketdata.tickers:get_companies:57 - Extracted tickers from http://eoddata.com/stocklist/OTCBB/T.htm for OTCBB exchange\n",
      "2022-11-16 00:06:04.681 | INFO     | marketdata.tickers:get_companies:57 - Extracted tickers from http://eoddata.com/stocklist/OTCBB/U.htm for OTCBB exchange\n",
      "2022-11-16 00:06:05.499 | INFO     | marketdata.tickers:get_companies:57 - Extracted tickers from http://eoddata.com/stocklist/OTCBB/V.htm for OTCBB exchange\n",
      "2022-11-16 00:06:06.392 | INFO     | marketdata.tickers:get_companies:57 - Extracted tickers from http://eoddata.com/stocklist/OTCBB/W.htm for OTCBB exchange\n",
      "2022-11-16 00:06:07.081 | INFO     | marketdata.tickers:get_companies:57 - Extracted tickers from http://eoddata.com/stocklist/OTCBB/X.htm for OTCBB exchange\n",
      "2022-11-16 00:06:07.707 | INFO     | marketdata.tickers:get_companies:57 - Extracted tickers from http://eoddata.com/stocklist/OTCBB/Y.htm for OTCBB exchange\n",
      "2022-11-16 00:06:08.454 | INFO     | marketdata.tickers:get_companies:57 - Extracted tickers from http://eoddata.com/stocklist/OTCBB/Z.htm for OTCBB exchange\n",
      "2022-11-16 00:06:08.457 | INFO     | marketdata.tickers:get_companies:61 - Cleaned the symbols and names by removing hyphens and additional letters\n",
      "2022-11-16 00:06:08.461 | INFO     | marketdata.tickers:get_companies:64 - Extracted 8931 groups of company symbols and names:\n",
      "2022-11-16 00:06:08.463 | INFO     | marketdata.tickers:get_companies:68 - 8931 left after removing duplicates:\n",
      "2022-11-16 00:06:08.467 | INFO     | marketdata.tickers:get_companies:81 - Removed 4781 unqualified symbols:\n",
      "2022-11-16 00:06:08.468 | INFO     | marketdata.tickers:get_companies:82 - Kept 4150 qualified symbols:\n",
      "2022-11-16 00:06:08.470 | INFO     | marketdata.tickers:companies:92 - [+] Add the exchange next to symbol and name\n",
      "2022-11-16 00:06:08.476 | INFO     | marketdata.tickers:companies:103 - [+] Join the company sets\n",
      "2022-11-16 00:06:08.478 | INFO     | marketdata.tickers:companies:107 - [+] Create company dataframe\n",
      "2022-11-16 00:06:08.483 | INFO     | marketdata.tickers:companies:111 - [+] One last check to drop duplicate symbols and names:\n",
      "2022-11-16 00:06:08.492 | SUCCESS  | marketdata.tickers:companies:117 - Retrieved all the company stock symbols and names. Returning a pandas dataframe:\n"
     ]
    }
   ],
   "source": [
    "df = companies()\n"
   ]
  },
  {
   "cell_type": "code",
   "execution_count": 1,
   "metadata": {},
   "outputs": [],
   "source": [
    "from marketdata.models.sqlite_db import _query_symbols"
   ]
  },
  {
   "cell_type": "code",
   "execution_count": 2,
   "metadata": {},
   "outputs": [
    {
     "name": "stderr",
     "output_type": "stream",
     "text": [
      "2022-11-16 00:36:12.114 | SUCCESS  | marketdata.models.sqlite_db:_query_symbols:60 - [+] All symbols retrieved\n"
     ]
    }
   ],
   "source": [
    "df = _query_symbols()"
   ]
  },
  {
   "cell_type": "code",
   "execution_count": null,
   "metadata": {},
   "outputs": [],
   "source": []
  },
  {
   "cell_type": "code",
   "execution_count": null,
   "metadata": {},
   "outputs": [],
   "source": []
  },
  {
   "cell_type": "code",
   "execution_count": 10,
   "metadata": {},
   "outputs": [],
   "source": []
  },
  {
   "cell_type": "code",
   "execution_count": 12,
   "metadata": {},
   "outputs": [
    {
     "data": {
      "text/plain": [
       "Index(['|exchange|symbol|name'], dtype='object')"
      ]
     },
     "execution_count": 12,
     "metadata": {},
     "output_type": "execute_result"
    }
   ],
   "source": []
  },
  {
   "cell_type": "code",
   "execution_count": null,
   "metadata": {},
   "outputs": [],
   "source": []
  }
 ],
 "metadata": {
  "kernelspec": {
   "display_name": "Python 3.8.10 ('.venv': venv)",
   "language": "python",
   "name": "python3"
  },
  "language_info": {
   "codemirror_mode": {
    "name": "ipython",
    "version": 3
   },
   "file_extension": ".py",
   "mimetype": "text/x-python",
   "name": "python",
   "nbconvert_exporter": "python",
   "pygments_lexer": "ipython3",
   "version": "3.8.10"
  },
  "orig_nbformat": 4,
  "vscode": {
   "interpreter": {
    "hash": "1a3e50fa61fc4f11c923305726539e4556f8723b183a81ab6015b69194538abd"
   }
  }
 },
 "nbformat": 4,
 "nbformat_minor": 2
}
